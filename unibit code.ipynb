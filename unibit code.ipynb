{
 "cells": [
  {
   "cell_type": "markdown",
   "id": "4b14d811",
   "metadata": {},
   "source": [
    "# Unibit private limited \n",
    "     "
   ]
  },
  {
   "cell_type": "markdown",
   "id": "511f996a",
   "metadata": {},
   "source": [
    "## problem statement "
   ]
  },
  {
   "cell_type": "markdown",
   "id": "ac824218",
   "metadata": {},
   "source": [
    " 1 . Given an array of integers and a target value, you must determine which two integers' sum\n",
    "equals the target and return a 2D array. Then merge the array into a single array with sorting (\n",
    "ascending ) order, in the next step double the target value and find again the combination of\n",
    "digits (can be multiple digits ) that are equal to the double targeted value and returned into a 2D\n",
    "array.\n",
    "\n",
    "Sample Input : [1, 3, 2, 2, -4, -6, -2, 8];\n",
    "Target Value = 4,\n",
    "Output: First Combination For “4” : [ [1,3],[2,2],[-4,8],[-6,2] ];\n",
    "Merge Into a single Array : [-6,-4,1,2,2,2,3,8];\n",
    "Second Combination For “8” : [ [ 1,3,2,2], [8,-4,2,2],....,[n,n,n,n] ]"
   ]
  },
  {
   "cell_type": "code",
   "execution_count": 62,
   "id": "44e7a71c",
   "metadata": {},
   "outputs": [
    {
     "name": "stdout",
     "output_type": "stream",
     "text": [
      "First Combination For \"4\": [[3, 1], [2, 2], [8, -4]]\n",
      "Merge Into a single Array: [-6, -4, -2, 1, 2, 2, 3, 8]\n",
      "Second Combination For \"8\": [[-2, 2, 8]]\n"
     ]
    }
   ],
   "source": [
    "def find_combinations(arr, target):  # im writing function for Finding the  combinations for target value\n",
    "    combinations = []             #  storing all cominations into list\n",
    "    seen = set()\n",
    "    \n",
    "    for num in arr:\n",
    "        complement = target - num\n",
    "        if complement in seen:\n",
    "            combinations.append([num, complement])\n",
    "        seen.add(num)\n",
    "    \n",
    "    merged_arr = sorted(arr)         # and now Merge the array & sort into ascending order\n",
    "    \n",
    "    double_target = target * 2       #  Finding combinations for double the target value\n",
    "    double_combinations = []         # storing the combination of upcoming target\n",
    "    \n",
    "    for i in range(len(merged_arr)):\n",
    "        num1 = merged_arr[i]\n",
    "        remaining = double_target - num1\n",
    "        \n",
    "        start = i + 1\n",
    "        end = len(merged_arr) - 1\n",
    "        \n",
    "        while start < end:\n",
    "            num2 = merged_arr[start]\n",
    "            num3 = merged_arr[end]\n",
    "            total = num2 + num3\n",
    "            \n",
    "            if total == remaining:\n",
    "                double_combinations.append([num1, num2, num3])\n",
    "                # Skip duplicate elements\n",
    "                while start < end and merged_arr[start] == num2:\n",
    "                    start += 1\n",
    "                while start < end and merged_arr[end] == num3:\n",
    "                    end -= 1\n",
    "            elif total < remaining:\n",
    "                start += 1\n",
    "            else:\n",
    "                end -= 1\n",
    "    \n",
    "    return combinations, double_combinations\n",
    "\n",
    "# let try with Sample input from problem statement\n",
    "\n",
    "arr = [1, 3, 2, 2, -4, -6, -2, 8]\n",
    "target = 4\n",
    "\n",
    "#  here the geting combinations for target value 4\n",
    "\n",
    "combinations, double_combinations = find_combinations(arr, target)\n",
    "\n",
    " # Print the  combinations of target value 4\n",
    "\n",
    "print(\"First Combination For \\\"{}\\\": {}\".format(target, combinations))\n",
    "\n",
    "# here merge the array into a single array with sorting ( ascending ) order \n",
    "merged_arr = sorted(arr)\n",
    "print(\"Merge Into a single Array: {}\".format(merged_arr))\n",
    "\n",
    "# printing the second combination for target value\n",
    "\n",
    "print(\"Second Combination For \\\"{}\\\": {}\".format(target*2, double_combinations))\n"
   ]
  },
  {
   "cell_type": "code",
   "execution_count": null,
   "id": "dc8215ac",
   "metadata": {},
   "outputs": [],
   "source": []
  },
  {
   "cell_type": "code",
   "execution_count": null,
   "id": "8afb5da1",
   "metadata": {},
   "outputs": [],
   "source": []
  },
  {
   "cell_type": "code",
   "execution_count": null,
   "id": "9e0c8486",
   "metadata": {},
   "outputs": [],
   "source": []
  },
  {
   "cell_type": "code",
   "execution_count": null,
   "id": "56a7f4b0",
   "metadata": {},
   "outputs": [],
   "source": []
  }
 ],
 "metadata": {
  "kernelspec": {
   "display_name": "Python 3 (ipykernel)",
   "language": "python",
   "name": "python3"
  },
  "language_info": {
   "codemirror_mode": {
    "name": "ipython",
    "version": 3
   },
   "file_extension": ".py",
   "mimetype": "text/x-python",
   "name": "python",
   "nbconvert_exporter": "python",
   "pygments_lexer": "ipython3",
   "version": "3.9.13"
  }
 },
 "nbformat": 4,
 "nbformat_minor": 5
}
